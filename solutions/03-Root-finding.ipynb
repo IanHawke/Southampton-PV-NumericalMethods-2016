{
 "cells": [
  {
   "cell_type": "markdown",
   "metadata": {},
   "source": [
    "# Root finding\n",
    "\n",
    "There are a number of papers, which seem to follow from [Xiao, Dunford and Capel](http://dx.doi.org/10.1109/PESC.2004.1355416), on modelling the $I, V$ (current versus voltage) curve of a PV cell. A typical model has\n",
    "\n",
    "\\begin{equation}\n",
    "  I = I_{\\text{ph}} - I_0 \\left[ \\exp \\left( \\frac{V + I \\times R_s}{a} - 1 \\right) - 1 \\right] - \\frac{V + I \\times R_s}{R_p}.\n",
    "\\end{equation}\n",
    "\n",
    "The parameters $I_{\\text{ph}}, I_0, a, R_s, R_p$ all need to be determined. To do this we'll need five pairs of $I, V$ values, determined by experiment. \n",
    "\n",
    "Even given those values the equation still can't be solved algebraically: it's nonlinear. Finding values that solve this equation is the realm of *nonlinear root finding*, and is crucial for a range of numerical methods."
   ]
  },
  {
   "cell_type": "markdown",
   "metadata": {},
   "source": [
    "# One dimensional case\n",
    "\n",
    "Let's assume we know the values of three of the parameters,\n",
    "\n",
    "\\begin{equation}\n",
    "  I_{\\text{ph}} = 3.5, \\quad I_0 = 3.2, \\quad a = 20, \\quad R_p = 300.\n",
    "\\end{equation}\n",
    "\n",
    "We'll also assume that a voltage $V = 10$ gives a current $I = 3$. So we have to solve the equation\n",
    "\n",
    "\\begin{align}\n",
    "  f(R_s) &= I_{\\text{ph}} - I_0 \\left[ \\exp \\left( \\frac{V + I \\times R_s}{a} - 1 \\right) - 1 \\right] - \\frac{V + I \\times R_s}{R_p} - I \\\\\n",
    "  &= 3.5 - 3.2 \\left[ \\exp \\left( \\frac{10 + 3 R_s}{20} - 1 \\right) - 1 \\right] - \\frac{10 + 3 R_s}{300} - 3\\\\\n",
    "  &= 0.\n",
    "\\end{align}\n",
    "\n",
    "Where this equation is satisfied we have the value of $R_s$."
   ]
  },
  {
   "cell_type": "markdown",
   "metadata": {},
   "source": [
    "Let's check that there is a solution, by plotting values of $f$ for different possible values of $R_s$:"
   ]
  },
  {
   "cell_type": "code",
   "execution_count": null,
   "metadata": {
    "collapsed": true
   },
   "outputs": [],
   "source": [
    "from __future__ import division\n",
    "import numpy\n",
    "from matplotlib import pyplot\n",
    "%matplotlib notebook"
   ]
  },
  {
   "cell_type": "code",
   "execution_count": null,
   "metadata": {
    "collapsed": false
   },
   "outputs": [],
   "source": [
    "def f(Rs):\n",
    "    return 3.5 -3.2*(numpy.exp((10+3*Rs)/20.0 - 1.0) - 1.0) - (10.0 + 3.0*Rs)/300.0 - 3\n",
    "\n",
    "Rs = numpy.linspace(0, 10)\n",
    "pyplot.figure(figsize=(10,6))\n",
    "pyplot.plot(Rs, f(Rs))\n",
    "pyplot.xlabel(r\"$R_s$\")\n",
    "pyplot.ylabel(r\"$f$\")\n",
    "pyplot.show()"
   ]
  },
  {
   "cell_type": "markdown",
   "metadata": {},
   "source": [
    "We see that there is a solution at around $R_s = 4$. We want to find it precisely."
   ]
  },
  {
   "cell_type": "markdown",
   "metadata": {},
   "source": [
    "## Bisection"
   ]
  },
  {
   "cell_type": "markdown",
   "metadata": {},
   "source": [
    "It's clear from the figure that there's a solution in the middle: the curve is continuous, and has different signs at either end."
   ]
  },
  {
   "cell_type": "code",
   "execution_count": null,
   "metadata": {
    "collapsed": false
   },
   "outputs": [],
   "source": [
    "print(\"When Rs=0, f(Rs)={}\".format(f(0)))\n",
    "print(\"When Rs=10, f(Rs)={}\".format(f(10)))"
   ]
  },
  {
   "cell_type": "markdown",
   "metadata": {},
   "source": [
    "We could pick the point in the middle, where $R_s=5$, and check its value:"
   ]
  },
  {
   "cell_type": "code",
   "execution_count": null,
   "metadata": {
    "collapsed": false
   },
   "outputs": [],
   "source": [
    "print(\"When Rs=5, f(Rs)={}\".format(f(5)))"
   ]
  },
  {
   "cell_type": "markdown",
   "metadata": {},
   "source": [
    "So the sign of $f$ changes between $0$ and $5$ (as expected):"
   ]
  },
  {
   "cell_type": "code",
   "execution_count": null,
   "metadata": {
    "collapsed": false
   },
   "outputs": [],
   "source": [
    "pyplot.figure(figsize=(10,6))\n",
    "pyplot.plot(Rs, f(Rs))\n",
    "pyplot.xlim(0, 5)\n",
    "pyplot.ylim(-0.5, 2)\n",
    "pyplot.xlabel(r\"$R_s$\")\n",
    "pyplot.ylabel(r\"$f$\")\n",
    "pyplot.show()"
   ]
  },
  {
   "cell_type": "markdown",
   "metadata": {},
   "source": [
    "This suggests an algorithm - the *bisection* algorithm.\n",
    "\n",
    "1. Pick $R_s^{\\text{L}}$ and $R_s^{\\text{R}}$ such that $f(R_s^{\\text{L}}) \\times f(R_s^{\\text{R}}) < 0$.\n",
    "2. Compute the midpoint $R_s^{\\text{M}} = \\tfrac{1}{2}(R_s^{\\text{L}} + R_s^{\\text{R}})$.\n",
    "3. Compute the function $f(R_s^{\\text{M}})$.\n",
    "   1. If $f(R_s^{\\text{L}}) \\times f(R_s^{\\text{M}}) < 0$ then the root is between the left point and the midpoint. So set $R_s^{\\text{R}} = R_s^{\\text{M}}$.\n",
    "   2. Otherwise the root is between the midpoint and the right point. So set $R_s^{\\text{L}} = R_s^{\\text{M}}$.\n",
    "4. Repeat from 2 until the value of $f(R_s^{\\text{M}})$ is sufficiently small.\n",
    "\n",
    "Let's implement that, requiring that $| f(R_s^{\\text{M}}) | < 10^{-12}$."
   ]
  },
  {
   "cell_type": "code",
   "execution_count": null,
   "metadata": {
    "collapsed": false
   },
   "outputs": [],
   "source": [
    "RsL = 0\n",
    "RsR = 10\n",
    "fL = f(RsL)\n",
    "fR = f(RsR)\n",
    "max_iterations = 100\n",
    "tolerance = 1e-12\n",
    "fM = 1\n",
    "iteration = 0\n",
    "while (abs(fM) > tolerance) and (iteration < max_iterations):\n",
    "    iteration += 1\n",
    "    RsM = 0.5*(RsL + RsR)\n",
    "    fM = f(RsM)\n",
    "    if fL*fM < 0:\n",
    "        RsR = RsM\n",
    "        fR = fM\n",
    "    else:\n",
    "        RsL = RsM\n",
    "        fL = fM\n",
    "print(\"Determined Rs={}, with f(Rs)={}, after {} iterations\".format(RsM, fM, iteration))"
   ]
  },
  {
   "cell_type": "markdown",
   "metadata": {},
   "source": [
    "We can write this as a function:"
   ]
  },
  {
   "cell_type": "code",
   "execution_count": null,
   "metadata": {
    "collapsed": false
   },
   "outputs": [],
   "source": [
    "def bisection(f, RsL, RsR, tolerance = 1e-12, max_iterations = 100):\n",
    "    fL = f(RsL)\n",
    "    fR = f(RsR)\n",
    "    assert(fL*fR<0), \"Require initial interval to be such that f(xL)*f(xR)<0!\"\n",
    "    fM = 1\n",
    "    iteration = 0\n",
    "    while (abs(fM) > tolerance) and (iteration < max_iterations):\n",
    "        iteration += 1\n",
    "        RsM = 0.5*(RsL + RsR)\n",
    "        fM = f(RsM)\n",
    "        if fL*fM < 0:\n",
    "            RsR = RsM\n",
    "            fR = fM\n",
    "        else:\n",
    "            RsL = RsM\n",
    "            fL = fM\n",
    "    return RsM, fM, iteration\n",
    "\n",
    "RsM, fM, iteration = bisection(f, 0, 10)\n",
    "print(\"Determined Rs={}, with f(Rs)={}, after {} iterations\".format(RsM, fM, iteration))"
   ]
  },
  {
   "cell_type": "markdown",
   "metadata": {},
   "source": [
    "## Newton's method\n",
    "\n",
    "Bisection is safe - it will always converge. It has two problems. The first is that it's slow: requiring tens or hundreds of function evaluations (which could be expensive) to find the root. The second is that it's very difficult to generalize to multiple dimensions.\n",
    "\n",
    "Instead we use Newton's method. This starts from a guess for $R_s$, $R_s^{(0)}$. It then updates this guess, computing\n",
    "\n",
    "\\begin{equation}\n",
    "  R_s^{(k+1)} = R_s^{(k)} - \\frac{f \\left( R_s^{(k)} \\right)}{f' \\left( R_s^{(k)} \\right)}.\n",
    "\\end{equation}\n",
    "\n",
    "This is computing the tangent to the curve $f(R_s)$ at the guess $R_s^{(k)}$. It then moves along a straight line with this slope until it intersects the horizontal axis: that becomes our new guess.\n",
    "\n",
    "Newton's method is *much* faster. Its disadvantages are that it isn't safe - it's not guaranteed to converge - and there's the additional effort of computing the derivative.\n",
    "\n",
    "Let's check how fast it is, starting from a guess of 5:"
   ]
  },
  {
   "cell_type": "code",
   "execution_count": null,
   "metadata": {
    "collapsed": true
   },
   "outputs": [],
   "source": [
    "def df(Rs):\n",
    "    return -3.2*3/20.0*numpy.exp((10+3*Rs)/20.0 - 1.0) -  3.0/300.0"
   ]
  },
  {
   "cell_type": "code",
   "execution_count": null,
   "metadata": {
    "collapsed": false
   },
   "outputs": [],
   "source": [
    "Rs_guess = 5\n",
    "f_guess = f(Rs_guess)\n",
    "iteration = 0\n",
    "while (abs(f_guess) > tolerance) and (iteration < max_iterations):\n",
    "    iteration += 1\n",
    "    df_guess = df(Rs_guess)\n",
    "    Rs_guess = Rs_guess - f_guess / df_guess\n",
    "    f_guess = f(Rs_guess)\n",
    "print(\"Determined Rs={}, with f(Rs)={}, after {} iterations\".format(Rs_guess, f_guess, iteration))"
   ]
  },
  {
   "cell_type": "markdown",
   "metadata": {},
   "source": [
    "The huge improvement in speed is extremely important when solving complex problems. However, the choice of initial guess is crucial to the method converging to the right answer (or at all!)."
   ]
  },
  {
   "cell_type": "markdown",
   "metadata": {},
   "source": [
    "Again, we can rewrite this as a function:"
   ]
  },
  {
   "cell_type": "code",
   "execution_count": null,
   "metadata": {
    "collapsed": false
   },
   "outputs": [],
   "source": [
    "def newton(f, df, Rs_guess, tolerance=1e-12, max_iterations=100):\n",
    "    f_guess = f(Rs_guess)\n",
    "    iteration = 0\n",
    "    while (abs(f_guess) > tolerance) and (iteration < max_iterations):\n",
    "        iteration += 1\n",
    "        df_guess = df(Rs_guess)\n",
    "        Rs_guess = Rs_guess - f_guess / df_guess\n",
    "        f_guess = f(Rs_guess)\n",
    "    return Rs_guess, f_guess, iteration\n",
    "\n",
    "Rs_value, f_value, iteration = newton(f, df, 5)\n",
    "print(\"Determined Rs={}, with f(Rs)={}, after {} iterations\".format(Rs_value, f_value, iteration))"
   ]
  },
  {
   "cell_type": "markdown",
   "metadata": {},
   "source": [
    "# Multi-dimensional case"
   ]
  },
  {
   "cell_type": "markdown",
   "metadata": {},
   "source": [
    "In the more general case we want to solve for all the parameters. We're going to assume that the previous calculation has given us $R_s = 4.165$, and that $R_p = 300$ is also known, and so only need to find $I_{\\text{ph}}, I_0, R_p$. This means we'll need three bits of information: three experimental measurements $(I^{[k]}, V^{[k]})$. We'll assume that they are\n",
    "\n",
    "\\begin{align}\n",
    "  V^{[1]} &= 0, & I^{[1]} & = 3.97, \\\\\n",
    "  V^{[2]} &= 10, & I^{[2]} & = 3.01, \\\\\n",
    "  V^{[3]} &= 20, & I^{[3]} & = 1.88.\n",
    "\\end{align}\n",
    "\n",
    "This means we can write down four equations. We'll write this as a vector equation\n",
    "\n",
    "\\begin{equation}\n",
    "  {\\bf f} \\left( {\\bf P} \\right) = 0\n",
    "\\end{equation}\n",
    "\n",
    "where ${\\bf P} = \\left( I_{\\text{ph}}, I_0, a \\right)$ are the parameters to be determined. The components of the vector equation each have the form\n",
    "\n",
    "\\begin{equation}\n",
    "  f_k \\left( {\\bf P} \\right) = I_{\\text{ph}} - I_0 \\left[ \\exp \\left( \\frac{V^{[k]} + I^{[k]} \\times R_s}{a} - 1 \\right) - 1 \\right] - \\frac{V^{[k]} + I^{[k]} \\times R_s}{R_p} - I^{[k]}.\n",
    "\\end{equation}"
   ]
  },
  {
   "cell_type": "markdown",
   "metadata": {},
   "source": [
    "We can write this down as a single function:"
   ]
  },
  {
   "cell_type": "code",
   "execution_count": null,
   "metadata": {
    "collapsed": true
   },
   "outputs": [],
   "source": [
    "parameters = {\n",
    "    \"Vk\" : [0, 10, 20],\n",
    "    \"Ik\" : [3.97, 3.01, 1.88],\n",
    "    \"Rs\" : 4.165,\n",
    "    \"Rp\" : 300\n",
    "    }\n",
    "\n",
    "def f_vector(p, parameters):\n",
    "    Vk = parameters[\"Vk\"]\n",
    "    Ik = parameters[\"Ik\"]\n",
    "    Rs = parameters[\"Rs\"]\n",
    "    Rp = parameters[\"Rp\"]\n",
    "    Iph, I0, a = p\n",
    "    f = numpy.zeros_like(p)\n",
    "    for k in range(len(Vk)):\n",
    "        f[k] = Iph - I0*(numpy.exp((Vk[k] + Ik[k]*Rs)/a-1.0)-1.0) - (Vk[k] + Ik[k]*Rs)/Rp - Ik[k]\n",
    "    return f"
   ]
  },
  {
   "cell_type": "markdown",
   "metadata": {},
   "source": [
    "We now need Newton's method applied to a vector function. The generalization of the derivative of a scalar function of a scalar to a vector function of a vector is the *Jacobian matrix*\n",
    "\n",
    "\\begin{equation}\n",
    "  \\frac{\\partial {\\bf f}}{\\partial {\\bf p}} = J = \\begin{pmatrix} \\frac{\\partial f_1}{\\partial p_1} & \\dots & \\frac{\\partial f_n}{\\partial p_1} \\\\ \\vdots & \\ddots & \\vdots \\\\ \\frac{\\partial f_n}{\\partial p_1} & \\dots & \\frac{\\partial f_n}{\\partial p_n} \\end{pmatrix}.\n",
    "\\end{equation}\n",
    "\n",
    "We roughly think of Newton's method as going from\n",
    "\n",
    "\\begin{equation}\n",
    "  p^{(k+1)} = p^{(k)} - \\frac{f \\left( p^{(k)} \\right)}{f' \\left( p^{(k)} \\right)}\n",
    "\\end{equation}\n",
    "\n",
    "to\n",
    "\n",
    "\\begin{equation}\n",
    "  {\\bf p}^{(k+1)} = {\\bf p}^{(k)} - \\frac{{\\bf f} \\left( {\\bf p}^{(k)} \\right)}{J \\left( {\\bf p}^{(k)} \\right)}.\n",
    "\\end{equation}\n",
    "\n",
    "However, this equation makes no sense: dividing a vector by a matrix doesn't mean anything. What we really want to do is the \"equivalent\" linear system\n",
    "\n",
    "\\begin{equation}\n",
    "  J \\left( {\\bf p}^{(k)} \\right) \\cdot \\left( {\\bf p}^{(k+1)} - {\\bf p}^{(k)} \\right) = -{\\bf f} \\left( {\\bf p}^{(k)} \\right).\n",
    "\\end{equation}\n",
    "\n",
    "By defining the vector ${\\bf c}^{(k)} = {\\bf p}^{(k+1)} - {\\bf p}^{(k)}$, Newton's method becomes\n",
    "\n",
    "\\begin{align}\n",
    "  J \\cdot {\\bf c}^{(k)} & = -{\\bf f}^{(k)}, \\\\\n",
    "  {\\bf p}^{(k+1)} &= {\\bf p}^{(k)} + {\\bf c}^{(k)}.\n",
    "\\end{align}"
   ]
  },
  {
   "cell_type": "markdown",
   "metadata": {},
   "source": [
    "### Digression\n",
    "\n",
    "The equation $J \\cdot {\\bf c}^{(k)} = -{\\bf f}^{(k)}$ is an example of a *linear system*: a known matrix multiplies an unknown vector to match the known vector on the right hand side. The linear system problem is a fundamental building block of numerical methods, and there are lots of algorithms to solve it. We'll use the simple `numpy.linalg.solve` here: be aware that when the matrix gets large (bigger than say $1,000^2$), much better algorithms will be required.\n",
    "\n",
    "Of course, analytically we would solve this by inverting the matrix. In numerical methods you should **never** invert the matrix: it's expensive and prone to nasty problems. In nearly all cases, you actually want to solve a linear system."
   ]
  },
  {
   "cell_type": "markdown",
   "metadata": {},
   "source": [
    "## Implementation"
   ]
  },
  {
   "cell_type": "markdown",
   "metadata": {},
   "source": [
    "In this case all components of our vector function have the same form, so computing the Jacobian matrix is just tedious:\n",
    "\n",
    "\\begin{align}\n",
    "  \\frac{\\partial f_k}{\\partial p_1} & = \\frac{\\partial f_k}{\\partial I_{\\text{ph}}} \\\\\n",
    "  &= 1, \\\\\n",
    "  \\frac{\\partial f_k}{\\partial p_2} & = \\frac{\\partial f_k}{\\partial I_0} \\\\\n",
    "  &= 1 - \\exp \\left( \\frac{V^{[k]} + I^{[k]} \\times R_s}{a} - 1 \\right), \\\\\n",
    "  \\frac{\\partial f_k}{\\partial p_3} & = \\frac{\\partial f_k}{\\partial a} \\\\\n",
    "  &= I_0 \\frac{V^{[k]} + I^{[k]} \\times R_s}{a^2} \\exp \\left( \\frac{V^{[k]} + I^{[k]} \\times R_s}{a} - 1 \\right).\n",
    "\\end{align}"
   ]
  },
  {
   "cell_type": "code",
   "execution_count": null,
   "metadata": {
    "collapsed": true
   },
   "outputs": [],
   "source": [
    "def jacobian(p, parameters):\n",
    "    Vk = parameters[\"Vk\"]\n",
    "    Ik = parameters[\"Ik\"]\n",
    "    Rs = parameters[\"Rs\"]\n",
    "    Rp = parameters[\"Rp\"]\n",
    "    Iph, I0, a = p\n",
    "    J = numpy.zeros((len(p),len(p)))\n",
    "    for k in range(len(p)):\n",
    "        J[k,0] = 1.0\n",
    "        J[k,1] = 1.0 - numpy.exp((Vk[k] + Ik[k]*Rs)/a - 1.0)\n",
    "        J[k,2] = I0 * (Vk[k] + Ik[k]*Rs)/a**2*numpy.exp((Vk[k] + Ik[k]*Rs)/a - 1.0)\n",
    "    return J"
   ]
  },
  {
   "cell_type": "markdown",
   "metadata": {},
   "source": [
    "And now we can try Newton's method. We'll start from an initial guess given by the parameters above. We'll check for convergence by measuring the norm of `f` using `numpy.linalg.norm`."
   ]
  },
  {
   "cell_type": "code",
   "execution_count": null,
   "metadata": {
    "collapsed": false
   },
   "outputs": [],
   "source": [
    "from numpy.linalg import norm, solve\n",
    "p_guess = numpy.array([3.5, 3.2, 20])\n",
    "f_guess = f_vector(p_guess, parameters)\n",
    "iteration = 0\n",
    "while (norm(f_guess) > tolerance) and (iteration < max_iterations):\n",
    "    iteration += 1\n",
    "    J_guess = jacobian(p_guess, parameters)\n",
    "    c_guess = solve(J_guess, -f_guess)\n",
    "    p_guess = p_guess + c_guess\n",
    "    f_guess = f_vector(p_guess, parameters)\n",
    "print(\"Determined parameters={}, with |f(p)|={}, after {} iterations\".format(p_guess, norm(f_guess), iteration))"
   ]
  },
  {
   "cell_type": "markdown",
   "metadata": {},
   "source": [
    "Again it converges very rapidly: again it's very sensitive to the initial guess."
   ]
  },
  {
   "cell_type": "markdown",
   "metadata": {},
   "source": [
    "# Black box methods\n",
    "\n",
    "In Python, the standard solvers are in the [`scipy.optimize`](http://docs.scipy.org/doc/scipy/reference/optimize.html) library. The default solver for one dimensional problems in [`brentq`](http://docs.scipy.org/doc/scipy/reference/generated/scipy.optimize.brentq.html#scipy.optimize.brentq) which is safe (like bisection) and converges rapidly (although not quite as fast as Newton's method). For multi-dimensional problems the [`root`](http://docs.scipy.org/doc/scipy/reference/generated/scipy.optimize.root.html#scipy.optimize.root) function is the standard. All these methods can be accelerated by providing the Jacobian. All are strongly dependent on the initial guess, or interval."
   ]
  }
 ],
 "metadata": {
  "kernelspec": {
   "display_name": "Python 2",
   "language": "python",
   "name": "python2"
  },
  "language_info": {
   "codemirror_mode": {
    "name": "ipython",
    "version": 2
   },
   "file_extension": ".py",
   "mimetype": "text/x-python",
   "name": "python",
   "nbconvert_exporter": "python",
   "pygments_lexer": "ipython2",
   "version": "2.7.11"
  }
 },
 "nbformat": 4,
 "nbformat_minor": 0
}
