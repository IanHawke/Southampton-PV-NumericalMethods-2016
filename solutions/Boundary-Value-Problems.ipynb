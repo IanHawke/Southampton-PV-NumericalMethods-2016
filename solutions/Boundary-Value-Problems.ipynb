{
 "cells": [
  {
   "cell_type": "markdown",
   "metadata": {},
   "source": [
    "# Boundary Value Problems\n",
    "\n",
    "In Giles Richardson's notes the simple one-dimensional inorganic solar cell model is presented. This model includes equations for the hole current density $j_n$ and the electron current density $j_p$ in terms of the hole and electron densities $n$ and $p$, the intrinsic carrier density $n_i$, the thermal generation rate $G$, and material dependent constants. After non-dimensionalization we end up with equations of the form\n",
    "\n",
    "\\begin{align}\n",
    "  \\frac{\\text{d} j_p}{\\text{d} x} &= \\Theta \\left( n_i^2 - n p \\right) + G, \\\\\n",
    "  \\frac{\\text{d} j_n}{\\text{d} x} &= -\\Theta \\left( n_i^2 - n p \\right) - G.\n",
    "\\end{align}\n",
    "\n",
    "These two ODEs require two boundary conditions, which are (thanks to the symmetry of the problem)\n",
    "\n",
    "\\begin{align}\n",
    "  \\left. \\left( j_p - j_n \\right) \\right|_{x=0} &=0, \\\\\n",
    "  \\left. j_n \\right|_{x=1} &= 0.\n",
    "\\end{align}"
   ]
  },
  {
   "cell_type": "markdown",
   "metadata": {},
   "source": [
    "We will assume that $n_i$ and $G$ are given constants, and that the charge densities $n, p$ have been found as functions of space already: in this case we'll use\n",
    "\n",
    "\\begin{align}\n",
    "  n &= \\exp(-x-x^2/100) \\left(1 - x^2 \\right)^2, \\\\\n",
    "  p & = \\exp(x-x^2/100) \\left(1 - x^2 \\right)^2.\n",
    "\\end{align}"
   ]
  },
  {
   "cell_type": "code",
   "execution_count": null,
   "metadata": {
    "collapsed": true
   },
   "outputs": [],
   "source": [
    "import numpy\n",
    "from matplotlib import pyplot\n",
    "%matplotlib notebook"
   ]
  },
  {
   "cell_type": "code",
   "execution_count": null,
   "metadata": {
    "collapsed": false
   },
   "outputs": [],
   "source": [
    "def n(x):\n",
    "    return numpy.exp(-x) * numpy.exp(-x**2/100) * (1-x**2)**2\n",
    "def p(x):\n",
    "    return numpy.exp(x) * numpy.exp(-x**2/100) * (1-x**2)**2\n"
   ]
  },
  {
   "cell_type": "code",
   "execution_count": null,
   "metadata": {
    "collapsed": false
   },
   "outputs": [],
   "source": [
    "x = numpy.linspace(0, 1)\n",
    "\n",
    "pyplot.figure(figsize=(10,6))\n",
    "pyplot.plot(x, n(x), label=r\"$n$\")\n",
    "pyplot.plot(x, p(x), label=r\"$p$\")\n",
    "pyplot.legend()\n",
    "pyplot.xlabel(r\"$x$\")\n",
    "pyplot.show()"
   ]
  },
  {
   "cell_type": "markdown",
   "metadata": {},
   "source": [
    "This is a *Boundary Value Problem*. It's an ordinary differential equation where the boundary conditions are given at different points - here at $x=0$ and $x=1$.\n",
    "\n",
    "Boundary value problems can be problematic: even when properly set up (same number of boundary conditions as equations, reasonable domain) they need not have *any* solutions, or they can have a unique solution, or they can have multiple - even infinitely many - solutions! Adding numerics just adds difficulty. However, it's still perfectly feasible to find solutions, when they exist."
   ]
  },
  {
   "cell_type": "markdown",
   "metadata": {},
   "source": [
    "## Shooting"
   ]
  },
  {
   "cell_type": "markdown",
   "metadata": {},
   "source": [
    "We can use a lot of the technology and methods we've seen already to solve boundary value problems. This relies on one key feature: if we have a solution to the *initial* value problem with the same differential equation, with boundary conditions at the start that match the BVP, and a solution that matches the BVP at the end, then it is a solution of the BVP.\n",
    "\n",
    "To phrase that for the problem above: if we have a value $J$ for $j_p$ at $x=0$ then we know (from the boundary condition at $x=0$) that $j_n=J$. We then solve the initial value problem\n",
    "\n",
    "\\begin{equation}\n",
    "  \\frac{\\text{d}}{\\text{d}x} \\begin{pmatrix} j_p \\\\ j_n \\end{pmatrix} = \\begin{pmatrix} \\Theta \\left( n_i^2 - n p \\right) + G \\\\ -\\Theta \\left( n_i^2 - n p \\right) - G \\end{pmatrix}, \\qquad \\begin{pmatrix} j_p \\\\ j_n \\end{pmatrix}(0) = \\begin{pmatrix} J \\\\ J \\end{pmatrix}.\n",
    "\\end{equation}\n",
    "\n",
    "This gives us both $j_p$ and $j_n$ as functions of $x$. Our solutions clearly depend on the initial value $J$. If our value of $J$ is such that $j_n(1) = 0$ then we match the boundary condition at $x=1$. We've then built a solution that solves the differential equation, and matches all the boundary conditions: it is a solution of the BVP."
   ]
  },
  {
   "cell_type": "markdown",
   "metadata": {},
   "source": [
    "We can solve the initial value problem using any of the techniques used earlier: here we'll use `odeint`. The solution will be $j_n(x;J)$ and $j_p(x;J)$, showing how the solution depends on the initial data. We can then evaluate this solution at $x=1$: we want\n",
    "\n",
    "\\begin{equation}\n",
    "  F(J) = j_n(1;J) = 0.\n",
    "\\end{equation}\n",
    "\n",
    "This is a nonlinear root-finding problem, where evaluating the function whose root we are trying to find involves solving an initial value problem."
   ]
  },
  {
   "cell_type": "markdown",
   "metadata": {},
   "source": [
    "Let's implement this, assuming $\\Theta = 0.9, G = 1, n_i = 0.6$. The critical value of $J$ is between $0$ and $5$."
   ]
  },
  {
   "cell_type": "code",
   "execution_count": null,
   "metadata": {
    "collapsed": false
   },
   "outputs": [],
   "source": [
    "Theta = 0.9\n",
    "G = 1\n",
    "ni = 0.6\n",
    "\n",
    "from scipy.integrate import odeint\n",
    "from scipy.optimize import brentq\n",
    "\n",
    "def f_ivp(y, x):\n",
    "    jp, jn = y\n",
    "    dydx = numpy.zeros_like(y)\n",
    "    dydx[0] = -Theta*(ni**2-n(x)*p(x)) + G\n",
    "    dydx[1] = -dydx[0]\n",
    "    return dydx\n",
    "\n",
    "def F_root(J):\n",
    "    y0 = [J, J]\n",
    "    y = odeint(f_ivp, y0, [0, 1])\n",
    "    jn1 = y[-1,1]\n",
    "    return jn1\n",
    "\n",
    "J_critical = brentq(F_root, 0, 5)"
   ]
  },
  {
   "cell_type": "code",
   "execution_count": null,
   "metadata": {
    "collapsed": false
   },
   "outputs": [],
   "source": [
    "solution = odeint(f_ivp, [J_critical, J_critical], x)\n",
    "pyplot.figure(figsize=(10, 6))\n",
    "pyplot.plot(x, solution[:,0], label=r\"$j_p$\")\n",
    "pyplot.plot(x, solution[:,1], label=r\"$j_n$\")\n",
    "pyplot.legend()\n",
    "pyplot.xlabel(r\"$x$\")\n",
    "pyplot.show()"
   ]
  },
  {
   "cell_type": "markdown",
   "metadata": {},
   "source": [
    "##### Exercise\n",
    "\n",
    "Repeat this using Euler's method and bisection to see how much difference it makes."
   ]
  }
 ],
 "metadata": {
  "kernelspec": {
   "display_name": "Python 2",
   "language": "python",
   "name": "python2"
  },
  "language_info": {
   "codemirror_mode": {
    "name": "ipython",
    "version": 2
   },
   "file_extension": ".py",
   "mimetype": "text/x-python",
   "name": "python",
   "nbconvert_exporter": "python",
   "pygments_lexer": "ipython2",
   "version": "2.7.11"
  }
 },
 "nbformat": 4,
 "nbformat_minor": 0
}
