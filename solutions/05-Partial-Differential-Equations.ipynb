{
 "cells": [
  {
   "cell_type": "markdown",
   "metadata": {},
   "source": [
    "# Partial Differential Equations"
   ]
  },
  {
   "cell_type": "markdown",
   "metadata": {},
   "source": [
    "If there's anything that needs serious computing power it's the solution of PDEs. However, you can go a long way to getting intuition on complex problems with simple numerical methods.\n",
    "\n",
    "Let's take parts of the doped semiconductor model, concentrating on the time-dependent behaviour, simplify the constants, and restrict to one spatial dimension:\n",
    "\n",
    "\\begin{align}\n",
    "  \\frac{\\partial p}{\\partial t} + \\frac{\\partial}{\\partial x} \\left( p \\frac{\\partial}{\\partial x} \\left( \\frac{1}{p} \\right) \\right) &= \\left( n_i^2 - np \\right) + G, \\\\\n",
    "  \\frac{\\partial n}{\\partial t} - \\frac{\\partial}{\\partial x} \\left( n \\frac{\\partial}{\\partial x} \\left( \\frac{1}{n} \\right) \\right) &= \\left( n_i^2 - np \\right) + G.\n",
    "\\end{align}\n",
    "\n",
    "This is a pair of coupled PDEs for $n, p$ in terms of physical and material constants, and the quasi-Fermi levels $E_{F_{n,p}}$ depend on $n, p$.\n",
    "\n",
    "We'll write this in the form\n",
    "\n",
    "\\begin{equation}\n",
    "  \\frac{\\partial {\\bf y}}{\\partial t} + \\frac{\\partial}{\\partial x} \\left( {\\bf g}({\\bf y}) \\frac{\\partial}{\\partial x} {\\bf h}({\\bf y}) \\right) = {\\bf f}({\\bf y}).\n",
    "\\end{equation}"
   ]
  },
  {
   "cell_type": "markdown",
   "metadata": {},
   "source": [
    "## Finite differencing\n",
    "\n",
    "We used finite differencing when looking at IVPs. We introduced a grid of points $x_j$ in space and replace derivatives with finite difference expressions. For example, we saw the forward difference approximation\n",
    "\n",
    "\\begin{equation}\n",
    "  \\left. \\frac{\\text{d} y}{\\text{d} x} \\right|_{x = x_j} = \\frac{y_{j+1} - y_j}{\\Delta x} + {\\cal O} \\left( \\Delta x^2 \\right),\n",
    "\\end{equation}\n",
    "\n",
    "and the central difference approximation\n",
    "\n",
    "\\begin{equation}\n",
    "  \\left. \\frac{\\text{d} y}{\\text{d} x} \\right|_{x = x_j} = \\frac{y_{j+1} - y_{j-1}}{2 \\Delta x} + {\\cal O} \\left( \\Delta x^3 \\right).\n",
    "\\end{equation}\n",
    "\n",
    "This extends to partial derivatives, and to more than one variable. We introduce a grid in time, $t^n$, and denote $y(t^n, x_j) = y^n_j$. Then we can do, say, forward differencing in time and central differencing in space:\n",
    "\n",
    "\\begin{align}\n",
    "  \\left. \\frac{\\partial y}{\\partial t} \\right|_{x = x_j, t = t^n} &= \\frac{y^{n+1}_{j} - y^{n}_{j}}{\\Delta t}, \\\\\n",
    "  \\left. \\frac{\\partial y}{\\partial x} \\right|_{x = x_j, t = t^n} &= \\frac{y^{n}_{j+1} - y^{n}_{j-1}}{2 \\Delta x}.\n",
    "\\end{align}\n"
   ]
  },
  {
   "cell_type": "code",
   "execution_count": null,
   "metadata": {
    "collapsed": true
   },
   "outputs": [],
   "source": []
  }
 ],
 "metadata": {
  "kernelspec": {
   "display_name": "Python 2",
   "language": "python",
   "name": "python2"
  },
  "language_info": {
   "codemirror_mode": {
    "name": "ipython",
    "version": 2
   },
   "file_extension": ".py",
   "mimetype": "text/x-python",
   "name": "python",
   "nbconvert_exporter": "python",
   "pygments_lexer": "ipython2",
   "version": "2.7.11"
  }
 },
 "nbformat": 4,
 "nbformat_minor": 0
}
