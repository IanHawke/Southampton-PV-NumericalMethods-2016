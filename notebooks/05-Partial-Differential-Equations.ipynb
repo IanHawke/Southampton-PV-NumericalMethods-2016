{
 "cells": [
  {
   "cell_type": "markdown",
   "metadata": {},
   "source": [
    "# Partial Differential Equations"
   ]
  },
  {
   "cell_type": "markdown",
   "metadata": {},
   "source": [
    "If there's anything that needs serious computing power it's the solution of PDEs. However, you can go a long way to getting intuition on complex problems with simple numerical methods.\n",
    "\n",
    "Let's take parts of the doped semiconductor model, concentrating on the time-dependent behaviour, simplify the constants, and restrict to one spatial dimension:\n",
    "\n",
    "\\begin{align}\n",
    "  \\frac{\\partial p}{\\partial t} + \\frac{\\partial}{\\partial x} \\left( p \\frac{\\partial}{\\partial x} \\left( \\frac{1}{p} \\right) \\right) &= \\left( n_i^2 - np \\right) + G, \\\\\n",
    "  \\frac{\\partial n}{\\partial t} + \\frac{\\partial}{\\partial x} \\left( n \\frac{\\partial}{\\partial x} \\left( \\frac{1}{n} \\right) \\right) &= \\left( n_i^2 - np \\right) + G.\n",
    "\\end{align}\n",
    "\n",
    "This is a pair of coupled PDEs for $n, p$ in terms of physical and material constants, and the quasi-Fermi levels $E_{F_{n,p}}$ depend on $n, p$ - here we've replaced them with terms proportional to $\\{n, p\\}^{-1}$.\n",
    "\n",
    "We'll write this in the form\n",
    "\n",
    "\\begin{equation}\n",
    "  \\frac{\\partial {\\bf y}}{\\partial t} + \\frac{\\partial}{\\partial x} \\left( {\\bf g}({\\bf y}) \\frac{\\partial}{\\partial x} {\\bf h}({\\bf y}) \\right) = {\\bf f}({\\bf y}).\n",
    "\\end{equation}"
   ]
  },
  {
   "cell_type": "markdown",
   "metadata": {},
   "source": [
    "## Finite differencing\n",
    "\n",
    "We used finite differencing when looking at IVPs. We introduced a grid of points $x_j$ in space and replace derivatives with finite difference expressions. For example, we saw the forward difference approximation\n",
    "\n",
    "\\begin{equation}\n",
    "  \\left. \\frac{\\text{d} y}{\\text{d} x} \\right|_{x = x_j} = \\frac{y_{j+1} - y_j}{\\Delta x} + {\\cal O} \\left( \\Delta x^1 \\right),\n",
    "\\end{equation}\n",
    "\n",
    "and the central difference approximation\n",
    "\n",
    "\\begin{equation}\n",
    "  \\left. \\frac{\\text{d} y}{\\text{d} x} \\right|_{x = x_j} = \\frac{y_{j+1} - y_{j-1}}{2 \\Delta x} + {\\cal O} \\left( \\Delta x^2 \\right).\n",
    "\\end{equation}\n",
    "\n",
    "This extends to partial derivatives, and to more than one variable. We introduce a grid in time, $t^n$, and denote $y(t^n, x_j) = y^n_j$. Then we can do, say, forward differencing in time and central differencing in space:\n",
    "\n",
    "\\begin{align}\n",
    "  \\left. \\frac{\\partial y}{\\partial t} \\right|_{x = x_j, t = t^n} &= \\frac{y^{n+1}_{j} - y^{n}_{j}}{\\Delta t}, \\\\\n",
    "  \\left. \\frac{\\partial y}{\\partial x} \\right|_{x = x_j, t = t^n} &= \\frac{y^{n}_{j+1} - y^{n}_{j-1}}{2 \\Delta x}.\n",
    "\\end{align}\n"
   ]
  },
  {
   "cell_type": "markdown",
   "metadata": {},
   "source": [
    "## Diffusion equation"
   ]
  },
  {
   "cell_type": "markdown",
   "metadata": {},
   "source": [
    "To illustrate the simplest way of proceeding we'll look at the diffusion equation\n",
    "\n",
    "\\begin{equation}\n",
    "  \\frac{\\partial y}{\\partial t} - \\frac{\\partial^2 y}{\\partial x^2} = 0.\n",
    "\\end{equation}\n",
    "\n",
    "When finite differences are used, with the centred second derivative approximation \n",
    "\n",
    "\\begin{equation}\n",
    "  \\left. \\frac{\\text{d}^2 y}{\\text{d} x^2} \\right|_{x = x_j} = \\frac{y_{j+1} + y_{j-1} - 2 y_{j}}{\\Delta x^2} + {\\cal O} \\left( \\Delta x^2 \\right),\n",
    "\\end{equation}\n",
    "\n",
    "we find the approximation\n",
    "\n",
    "\\begin{align}\n",
    "  && \\frac{y^{n+1}_{j} - y^{n}_{j}}{\\Delta t} - \\frac{y^{n}_{j+1} + y^{n}_{j-1} - 2 y^{n}_{j}}{\\Delta x^2} &= 0 \\\\\n",
    "  \\implies && y^{n+1}_{j} &= y^{n}_{j} + \\frac{\\Delta t}{\\Delta x^2} \\left( y^{n}_{j+1} + y^{n}_{j-1} - 2 y^{n}_{j} \\right).\n",
    "\\end{align}\n",
    "\n",
    "Given initial data and boundary conditions, this can be solved.\n"
   ]
  },
  {
   "cell_type": "markdown",
   "metadata": {},
   "source": [
    "Let's implement the heat equation with homogeneous Dirichlet boundary conditions ($y(t, 0) = 0 = y(t, 1)$) and simple initial data ($y(0, x) = x (1 - x)$), using a spatial step size of $\\Delta x = 10^{-2}$ and a time step of $\\Delta t = 10^{-5}$, solving to $t = 0.1$ ($10000$ steps)."
   ]
  },
  {
   "cell_type": "code",
   "execution_count": null,
   "metadata": {
    "collapsed": true
   },
   "outputs": [],
   "source": [
    "from __future__ import division\n",
    "import numpy\n",
    "from matplotlib import pyplot\n",
    "%matplotlib notebook"
   ]
  },
  {
   "cell_type": "code",
   "execution_count": null,
   "metadata": {
    "collapsed": true
   },
   "outputs": [],
   "source": [
    "dt = 1e-5\n",
    "dx = 1e-2\n",
    "x = numpy.arange(0,1+dx,dx)\n",
    "y = numpy.zeros_like(x)\n",
    "y = x * (1 - x)"
   ]
  },
  {
   "cell_type": "code",
   "execution_count": null,
   "metadata": {
    "collapsed": true
   },
   "outputs": [],
   "source": []
  },
  {
   "cell_type": "code",
   "execution_count": null,
   "metadata": {
    "collapsed": true
   },
   "outputs": [],
   "source": []
  },
  {
   "cell_type": "code",
   "execution_count": null,
   "metadata": {
    "collapsed": false
   },
   "outputs": [],
   "source": []
  },
  {
   "cell_type": "markdown",
   "metadata": {},
   "source": [
    "The solution looks good - smooth, the initial profile is diffusing nicely. Try with something a bit more complex, such as $y(0, x) = \\sin^4(4 \\pi x)$ to see the diffusive effects:"
   ]
  },
  {
   "cell_type": "code",
   "execution_count": null,
   "metadata": {
    "collapsed": false
   },
   "outputs": [],
   "source": []
  },
  {
   "cell_type": "code",
   "execution_count": null,
   "metadata": {
    "collapsed": true
   },
   "outputs": [],
   "source": []
  },
  {
   "cell_type": "code",
   "execution_count": null,
   "metadata": {
    "collapsed": false
   },
   "outputs": [],
   "source": []
  },
  {
   "cell_type": "markdown",
   "metadata": {},
   "source": [
    "All the features are smoothing out, as expected."
   ]
  },
  {
   "cell_type": "markdown",
   "metadata": {},
   "source": [
    "However, we used a really small timestep to get these results. It would be less numerical work if we increased the timestep. Let's try only $100$ steps with $\\Delta t = 10^{-4}$:"
   ]
  },
  {
   "cell_type": "code",
   "execution_count": null,
   "metadata": {
    "collapsed": false
   },
   "outputs": [],
   "source": []
  },
  {
   "cell_type": "markdown",
   "metadata": {},
   "source": [
    "This doesn't look good - it's *horribly* unstable, with the results blowing up very fast.\n",
    "\n",
    "The problem is that the size of the timestep really matters. Von Neumann stability calculations can be used to show that *only* when\n",
    "\n",
    "\\begin{equation}\n",
    "  \\frac{\\Delta t}{\\Delta x^2} < \\frac{1}{2}\n",
    "\\end{equation}\n",
    "\n",
    "are the numerical results stable, and hence trustable. This is a real problem when you want to improve accuracy by increasing the number of points, hence decreasing $\\Delta x$: with $\\Delta x = 10^{-3}$ we need $\\Delta t < 5 \\times 10^{-7}$ already!"
   ]
  },
  {
   "cell_type": "markdown",
   "metadata": {},
   "source": [
    "##### Exercise\n",
    "\n",
    "Check, by changing $\\Delta x$ and re-running the simulations, that you see numerical instabilities when this stability bound is violated. You'll only need to take a few tens of timesteps irrespective of the value of $\\Delta t$."
   ]
  },
  {
   "cell_type": "markdown",
   "metadata": {},
   "source": [
    "## Full problem"
   ]
  },
  {
   "cell_type": "markdown",
   "metadata": {},
   "source": [
    "Finally, we can evaluate the PDE at a specific point and re-arrange the equation. Assuming we know all the data at $t^n$, the only unknowns will be at $t^{n+1}$, giving the algorithm\n",
    "\n",
    "\\begin{align}\n",
    "  {\\bf y}^{n+1}_{j} &= {\\bf y}^{n}_{j} + \\Delta t \\, {\\bf f}^{n}_{j} - \\frac{\\Delta t}{2 \\Delta x} \\left( {\\bf g}^{n}_{j+1} \\frac{1}{2 \\Delta x} \\left( {\\bf h}^{n}_{j+2} - {\\bf h}^{n}_{j} \\right) - {\\bf g}^{n}_{j-1} \\frac{1}{2 \\Delta x} \\left( {\\bf h}^{n}_{j} - {\\bf h}^{n}_{j-2} \\right) \\right) \\\\\n",
    "  &= {\\bf y}^{n}_{j} + \\Delta t \\, {\\bf f}^{n}_{j} - \\frac{\\Delta t}{4 \\left( \\Delta x \\right)^2} \\left( {\\bf g}^{n}_{j+1} {\\bf h}^{n}_{j+2} - \\left( {\\bf g}^{n}_{j+1} + {\\bf g}^{n}_{j-1} \\right) {\\bf h}^{n}_{j} + {\\bf g}^{n}_{j-1} {\\bf h}^{n}_{j-2} \\right)\n",
    "\\end{align}"
   ]
  },
  {
   "cell_type": "markdown",
   "metadata": {},
   "source": [
    "We'll implement that by writing a function that computes the update term (${\\bf y}^{n+1}_j - {\\bf y}^n_j$), choosing $n_i = 0.1, G = 0.1$:"
   ]
  },
  {
   "cell_type": "code",
   "execution_count": null,
   "metadata": {
    "collapsed": false
   },
   "outputs": [],
   "source": [
    "ni = 0.1\n",
    "G = 0.1\n",
    "\n",
    "def f(y):\n",
    "    p = y[0,:]\n",
    "    n = y[1,:]\n",
    "    f_vector = numpy.zeros_like(y)\n",
    "    f_vector[:,:] = ni**2 - n*p + G\n",
    "    return f_vector\n",
    "\n",
    "def g(y):\n",
    "    p = y[0,:]\n",
    "    n = y[1,:]\n",
    "    g_vector = numpy.zeros_like(y)\n",
    "    g_vector[0,:] = p\n",
    "    g_vector[1,:] = n\n",
    "    return g_vector\n",
    "\n",
    "def h(y):\n",
    "    p = y[0,:]\n",
    "    n = y[1,:]\n",
    "    h_vector = numpy.zeros_like(y)\n",
    "    h_vector[0,:] = 1.0/p\n",
    "    h_vector[1,:] = 1.0/n\n",
    "    return h_vector\n",
    "\n",
    "def update_term(y, dt, dx):"
   ]
  },
  {
   "cell_type": "markdown",
   "metadata": {},
   "source": [
    "Now set the initial data to be\n",
    "\n",
    "\\begin{align}\n",
    "  p &= n_i \\left(1 + 0.1 \\sin(4 \\pi x) \\right), \\\\\n",
    "  n &= n_i \\left(1 + 0.1 \\sin(6 \\pi x) \\right).\n",
    "\\end{align}\n",
    "\n",
    "The spatial domain should be $[0, 1]$. The spatial step size should be $0.05$. The timestep should be $10^{-7}$. The evolution should be for $10^5$ steps, to $t=0.01$.\n",
    "\n",
    "The crucial point is what happens at the boundaries. To discretely represent a *Neumann* boundary condition where the normal derivative vanishes on the boundary, set the boundary points equal to the first data point in the interior, ie `y[:,0] = y[:,1] = y[:,2]` and `y[:,-1] = y[:,-2] = y[:,-3]`."
   ]
  },
  {
   "cell_type": "code",
   "execution_count": null,
   "metadata": {
    "collapsed": true
   },
   "outputs": [],
   "source": [
    "dx = 0.05\n",
    "dt = 1e-7\n",
    "Nsteps = 10000\n",
    "x = numpy.arange(-dx,1+2*dx,dx)\n",
    "y = numpy.zeros((2,len(x)))\n",
    "y[0,:] = ni*(1.0+0.1*numpy.sin(4.0*numpy.pi*x))\n",
    "y[1,:] = ni*(1.0+0.1*numpy.sin(6.0*numpy.pi*x))"
   ]
  },
  {
   "cell_type": "code",
   "execution_count": null,
   "metadata": {
    "collapsed": false
   },
   "outputs": [],
   "source": [
    "pyplot.figure(figsize=(10,6))\n",
    "pyplot.plot(x, y[0,:], label=r\"$p$\")\n",
    "pyplot.plot(x, y[1,:], label=r\"$n$\")\n",
    "pyplot.legend()\n",
    "pyplot.xlabel(r\"$x$\")\n",
    "pyplot.xlim(0, 1)\n",
    "pyplot.show()"
   ]
  },
  {
   "cell_type": "code",
   "execution_count": null,
   "metadata": {
    "collapsed": false
   },
   "outputs": [],
   "source": []
  },
  {
   "cell_type": "code",
   "execution_count": null,
   "metadata": {
    "collapsed": false
   },
   "outputs": [],
   "source": [
    "pyplot.figure(figsize=(10,6))\n",
    "pyplot.plot(x, y[0,:], label=r\"$p$\")\n",
    "pyplot.plot(x, y[1,:], label=r\"$n$\")\n",
    "pyplot.legend()\n",
    "pyplot.xlabel(r\"$x$\")\n",
    "pyplot.xlim(0, 1)\n",
    "pyplot.show()"
   ]
  },
  {
   "cell_type": "markdown",
   "metadata": {},
   "source": [
    "##### Exercise\n",
    "\n",
    "Increase the resolution and see how the solutions converge."
   ]
  },
  {
   "cell_type": "markdown",
   "metadata": {},
   "source": [
    "##### Exercise\n",
    "\n",
    "Find the stability limit for this system, by experimentation."
   ]
  },
  {
   "cell_type": "markdown",
   "metadata": {},
   "source": [
    "##### Exercise\n",
    "\n",
    "Using the profile you find, solve the BVP to find the current densities."
   ]
  }
 ],
 "metadata": {
  "kernelspec": {
   "display_name": "Python 2",
   "language": "python",
   "name": "python2"
  },
  "language_info": {
   "codemirror_mode": {
    "name": "ipython",
    "version": 2
   },
   "file_extension": ".py",
   "mimetype": "text/x-python",
   "name": "python",
   "nbconvert_exporter": "python",
   "pygments_lexer": "ipython2",
   "version": "2.7.11"
  }
 },
 "nbformat": 4,
 "nbformat_minor": 0
}
