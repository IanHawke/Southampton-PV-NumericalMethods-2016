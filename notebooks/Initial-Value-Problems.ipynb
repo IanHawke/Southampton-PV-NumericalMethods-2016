{
 "cells": [
  {
   "cell_type": "markdown",
   "metadata": {},
   "source": [
    "# Initial Value Problems"
   ]
  },
  {
   "cell_type": "markdown",
   "metadata": {},
   "source": [
    "A [paper by Jones](http://www.ewp.rpi.edu/hartford/~fonteb/EP/Other/References/Jones-ThermalModelPVSystem.pdf) suggests a model for the temperature behaviour $T(t)$ of a PV cell in terms of a nonlinear differential equation. Here we extract the key features as\n",
    "\n",
    "\\begin{equation}\n",
    "  \\frac{\\text{d}T}{\\text{d}t} = f(t, T) = c_1 \\left( c_2 T_{\\text{ambient}}^4 - T^4 \\right) + c_3 - \\frac{c_4}{T} - c_5 ( T - T_{\\text{ambient}} ),\n",
    "\\end{equation}\n",
    "\n",
    "where the various $c_{1, \\dots, 5}$ are constant parameters, and the cell is assumed to relax back to the ambient temperature fast enough to treat $T_{\\text{ambient}}$ as a constant as well.\n",
    "\n",
    "If we're given the values of the parameters together with a temperature value at time $t=0$, we can solve this *initial value problem* numerically."
   ]
  },
  {
   "cell_type": "markdown",
   "metadata": {},
   "source": [
    "## Solution by integration"
   ]
  },
  {
   "cell_type": "markdown",
   "metadata": {},
   "source": [
    "We've solved lots of problems by integration already. A good scientist is a lazy scientist, so we can try to solve this one by integration as well.\n",
    "\n",
    "Assume we know the solution at $t_j$ and want to compute the solution at $t_{j+1} = t_j + \\Delta t$. We write\n",
    "\n",
    "\\begin{equation}\n",
    "  \\int_{t_j}^{t_{j+1}} \\text{d}t \\, \\frac{\\text{d}T}{\\text{d}t} = T \\left( t_{j+1} \\right) -  T \\left( t_{j} \\right).\n",
    "\\end{equation}\n",
    "\n",
    "Using the differential equation we therefore get\n",
    "\n",
    "\\begin{equation}\n",
    "  T \\left( t_{j+1} \\right) = T \\left( t_{j} \\right) + \\int_{t_j}^{t_{j+1}} \\text{d}t \\, f(t, T).\n",
    "\\end{equation}\n",
    "\n",
    "If we can solve the integral, we can move from the solution at $t_j$ to the solution at $t_{j+1}$."
   ]
  },
  {
   "cell_type": "markdown",
   "metadata": {},
   "source": [
    "The simplest solution of the integral was the Riemann integral approximation. The width of the interval is $t_{j+1} - t_j = \\Delta t$. We know the value of $T(t_j)$. Therefore we can approximate\n",
    "\n",
    "\\begin{equation}\n",
    "  \\int_{t_j}^{t_{j+1}} \\text{d}t \\, f(t, T) \\approx \\Delta t \\, \\, f \\left( t, T(t_j) \\right),\n",
    "\\end{equation}\n",
    "\n",
    "leading to *Euler's method*\n",
    "\n",
    "\\begin{equation}\n",
    "  T \\left( t_{j+1} \\right) = T \\left( t_{j} \\right) + \\Delta t \\, \\, f \\left( t_j, T(t_j) \\right),\n",
    "\\end{equation}\n",
    "\n",
    "which in more compact notation is\n",
    "\n",
    "\\begin{equation}\n",
    "  T_{j+1} = T_{j} + \\Delta t \\, \\, f_j.\n",
    "\\end{equation}"
   ]
  },
  {
   "cell_type": "markdown",
   "metadata": {},
   "source": [
    "### Euler's method\n",
    "\n",
    "Let's implement this where the ambient temperature is $290$K, the parameters are all $0.9$, and $T(0) = 300$K. We'll solve up to $t=10^{-7}$ hours (it relaxes very fast!).\n",
    "\n",
    "Note: we're going to pass in all the parameter values using a Python [*dictionary*](http://www.tutorialspoint.com/python/python_dictionary.htm). These are a little like lists - they hold multiple things. However, the index is not an integer, but something constant - the *key* - that you specify. They're defined using curly braces `{}`, with the key followed by a colon and then the value."
   ]
  },
  {
   "cell_type": "code",
   "execution_count": null,
   "metadata": {
    "collapsed": true
   },
   "outputs": [],
   "source": [
    "from __future__ import division\n",
    "import numpy\n",
    "%matplotlib notebook\n",
    "from matplotlib import pyplot"
   ]
  },
  {
   "cell_type": "code",
   "execution_count": null,
   "metadata": {
    "collapsed": true
   },
   "outputs": [],
   "source": [
    "parameters = { \"T_ambient\" : 290.0,\n",
    "               \"c1\" : 0.9,\n",
    "               \"c2\" : 0.9,\n",
    "               \"c3\" : 0.9,\n",
    "               \"c4\" : 0.9,\n",
    "               \"c5\" : 0.9}\n",
    "T_initial = 300.0\n",
    "t_end = 1e-7"
   ]
  },
  {
   "cell_type": "code",
   "execution_count": null,
   "metadata": {
    "collapsed": true
   },
   "outputs": [],
   "source": [
    "def f(t, T, parameters):\n",
    "    T_ambient = parameters[\"T_ambient\"]\n",
    "    c1 = parameters[\"c1\"]\n",
    "    c2 = parameters[\"c2\"]\n",
    "    c3 = parameters[\"c3\"]\n",
    "    c4 = parameters[\"c4\"]\n",
    "    c5 = parameters[\"c5\"]\n",
    "    return c1 * (c2 * T_ambient**4 - T**4) + c3 - c4 / T - c5 * (T_ambient - T)"
   ]
  },
  {
   "cell_type": "code",
   "execution_count": null,
   "metadata": {
    "collapsed": true
   },
   "outputs": [],
   "source": [
    "def euler_step(f, t, T, dt, parameters):\n",
    "    return T + dt * f(t, T, parameters)"
   ]
  },
  {
   "cell_type": "code",
   "execution_count": null,
   "metadata": {
    "collapsed": false
   },
   "outputs": [],
   "source": [
    "Nsteps = 100\n",
    "T = numpy.zeros((Nsteps+1,))\n",
    "T[0] = T_initial\n",
    "dt = t_end / Nsteps\n",
    "t = numpy.linspace(0, t_end, Nsteps+1)\n",
    "for j in range(Nsteps):\n",
    "    T[j+1] = euler_step(f, t[j], T[j], dt, parameters)"
   ]
  },
  {
   "cell_type": "code",
   "execution_count": null,
   "metadata": {
    "collapsed": false
   },
   "outputs": [],
   "source": [
    "pyplot.figure(figsize=(10,6))\n",
    "pyplot.plot(t, T)\n",
    "pyplot.xlabel(r\"$t$\")\n",
    "pyplot.ylabel(r\"$T$\")\n",
    "pyplot.show()"
   ]
  },
  {
   "cell_type": "markdown",
   "metadata": {},
   "source": [
    "As with all integration problems, we expect accuracy (and computation time!) to increase as we increase the number of steps. Euler's method, like the Riemann integral on which it's built, is first order."
   ]
  },
  {
   "cell_type": "code",
   "execution_count": null,
   "metadata": {
    "collapsed": true
   },
   "outputs": [],
   "source": []
  }
 ],
 "metadata": {
  "kernelspec": {
   "display_name": "Python 2",
   "language": "python",
   "name": "python2"
  },
  "language_info": {
   "codemirror_mode": {
    "name": "ipython",
    "version": 2
   },
   "file_extension": ".py",
   "mimetype": "text/x-python",
   "name": "python",
   "nbconvert_exporter": "python",
   "pygments_lexer": "ipython2",
   "version": "2.7.11"
  }
 },
 "nbformat": 4,
 "nbformat_minor": 0
}
